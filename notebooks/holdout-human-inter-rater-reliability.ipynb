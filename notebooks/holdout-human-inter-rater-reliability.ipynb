{
 "cells": [
  {
   "cell_type": "code",
   "execution_count": 7,
   "id": "b6216851",
   "metadata": {},
   "outputs": [],
   "source": [
    "import pandas as pd"
   ]
  },
  {
   "cell_type": "code",
   "execution_count": null,
   "id": "2df178b2",
   "metadata": {},
   "outputs": [],
   "source": [
    "human1 = pd.read_csv(\"../pipeline/src/data/holdout/human1_holdout_interrater_reliability.csv\", nrows=3)\n",
    "human2 = pd.read_csv(\"../pipeline/src/data/holdout/human2_holdout_interrater_reliability.csv\", nrows=3)"
   ]
  },
  {
   "cell_type": "code",
   "execution_count": null,
   "id": "4e0f9c62",
   "metadata": {},
   "outputs": [
    {
     "name": "stdout",
     "output_type": "stream",
     "text": [
      "Number of different cells (excluding the first column): 12\n",
      "Total number of cells (excluding the first column): 84\n"
     ]
    }
   ],
   "source": [
    "diff_count = (human1.iloc[:, 1:] != human2.iloc[:, 1:]).sum().sum()\n",
    "print(\"Number of different cells (excluding the first column):\", diff_count)\n",
    "print(\"Total number of cells (excluding the first column):\", human1.iloc[:, 1:].size)"
   ]
  },
  {
   "cell_type": "code",
   "execution_count": null,
   "id": "3d73bcf3",
   "metadata": {},
   "outputs": [
    {
     "name": "stdout",
     "output_type": "stream",
     "text": [
      "Cohen's kappa: 0.6603773584905661\n"
     ]
    }
   ],
   "source": [
    "from sklearn.metrics import cohen_kappa_score\n",
    "\n",
    "# Flatten the ratings (excluding the 'id' column)\n",
    "human1_ratings = human1.iloc[:, 1:].values.flatten()\n",
    "human2_ratings = human2.iloc[:, 1:].values.flatten()\n",
    "\n",
    "kappa = cohen_kappa_score(human1_ratings, human2_ratings)\n",
    "print(\"Cohen's kappa:\", kappa)"
   ]
  }
 ],
 "metadata": {
  "kernelspec": {
   "display_name": "mental-health-crises-llm-evaluation-6oGcUsEi-py3.12",
   "language": "python",
   "name": "python3"
  },
  "language_info": {
   "codemirror_mode": {
    "name": "ipython",
    "version": 3
   },
   "file_extension": ".py",
   "mimetype": "text/x-python",
   "name": "python",
   "nbconvert_exporter": "python",
   "pygments_lexer": "ipython3",
   "version": "3.12.10"
  }
 },
 "nbformat": 4,
 "nbformat_minor": 5
}
