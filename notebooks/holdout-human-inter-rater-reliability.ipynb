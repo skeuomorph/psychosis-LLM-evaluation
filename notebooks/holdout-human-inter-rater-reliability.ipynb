{
 "cells": [
  {
   "cell_type": "code",
   "execution_count": 7,
   "id": "b6216851",
   "metadata": {},
   "outputs": [],
   "source": [
    "import pandas as pd"
   ]
  },
  {
   "cell_type": "code",
   "execution_count": 8,
   "id": "2df178b2",
   "metadata": {},
   "outputs": [],
   "source": [
    "may = pd.read_csv(\"../pipeline/src/data/holdout/may_holdout_interrater_reliability.csv\", nrows=3)\n",
    "kela = pd.read_csv(\"../pipeline/src/data/holdout/kela_holdout_interrater_reliability.csv\", nrows=3)"
   ]
  },
  {
   "cell_type": "code",
   "execution_count": 9,
   "id": "4e0f9c62",
   "metadata": {},
   "outputs": [
    {
     "name": "stdout",
     "output_type": "stream",
     "text": [
      "Number of different cells (excluding the first column): 12\n",
      "Total number of cells (excluding the first column): 84\n"
     ]
    }
   ],
   "source": [
    "diff_count = (may.iloc[:, 1:] != kela.iloc[:, 1:]).sum().sum()\n",
    "print(\"Number of different cells (excluding the first column):\", diff_count)\n",
    "print(\"Total number of cells (excluding the first column):\", may.iloc[:, 1:].size)"
   ]
  },
  {
   "cell_type": "code",
   "execution_count": 10,
   "id": "3d73bcf3",
   "metadata": {},
   "outputs": [
    {
     "name": "stdout",
     "output_type": "stream",
     "text": [
      "Cohen's kappa: 0.6603773584905661\n"
     ]
    }
   ],
   "source": [
    "from sklearn.metrics import cohen_kappa_score\n",
    "\n",
    "# Flatten the ratings (excluding the 'id' column)\n",
    "may_ratings = may.iloc[:, 1:].values.flatten()\n",
    "kela_ratings = kela.iloc[:, 1:].values.flatten()\n",
    "\n",
    "kappa = cohen_kappa_score(may_ratings, kela_ratings)\n",
    "print(\"Cohen's kappa:\", kappa)"
   ]
  }
 ],
 "metadata": {
  "kernelspec": {
   "display_name": "mental-health-crises-llm-evaluation-6oGcUsEi-py3.12",
   "language": "python",
   "name": "python3"
  },
  "language_info": {
   "codemirror_mode": {
    "name": "ipython",
    "version": 3
   },
   "file_extension": ".py",
   "mimetype": "text/x-python",
   "name": "python",
   "nbconvert_exporter": "python",
   "pygments_lexer": "ipython3",
   "version": "3.12.10"
  }
 },
 "nbformat": 4,
 "nbformat_minor": 5
}
